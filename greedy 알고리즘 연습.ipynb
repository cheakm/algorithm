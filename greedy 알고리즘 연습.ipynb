{
 "cells": [
  {
   "cell_type": "code",
   "execution_count": 1,
   "metadata": {},
   "outputs": [
    {
     "name": "stdout",
     "output_type": "stream",
     "text": [
      "12344\n",
      "144\n"
     ]
    }
   ],
   "source": [
    "#greedy 2 기출\n",
    "data = input()\n",
    "\n",
    "#첫번째 문자를 숫자로 변경해 대입\n",
    "#현재까지 계산결과를 result에 담아서 매 숫자에 대해서 연산을 진행. 따라서 현재 처리하는 숫자나 result의 결과가 1 이하이면 더하기 진행\n",
    "result = int(data[0])\n",
    "\n",
    "for i in range(1, len(data)):\n",
    "    #두 수중 하나라도 0 혹인 1인경우, 더하기 수행\n",
    "    num = int(data[i])\n",
    "    if num <= 1 or result <=1:\n",
    "        result += num\n",
    "    else:\n",
    "        result*= num\n",
    "print(result)"
   ]
  },
  {
   "cell_type": "code",
   "execution_count": 2,
   "metadata": {},
   "outputs": [
    {
     "name": "stdout",
     "output_type": "stream",
     "text": [
      "23122\n",
      "2 3 1 2 2 \n",
      "2\n"
     ]
    }
   ],
   "source": [
    "#그리디 1 기출\n",
    "n = int(input())\n",
    "\n",
    "\n",
    "data = list(map(int, input().split()))\n",
    "data.sort() # 오름차순 정렬 : 작은 수부터\n",
    "\n",
    "result = 0 #총 그룹의 수\n",
    "count = 0 # 현재 그룹에 포함된 모험가의 수\n",
    "\n",
    "for i in data: # 공포도를 낮은 것 부터 하나씩 확인\n",
    "    count += 1 # 현재 그룹에 해당 모험가 포함시키기\n",
    "    if count >= i: # 현재 그룹에 포함된 모험가의 수가 현재의 공포도 이상이면, 그룹 결성\n",
    "        result += 1 # 그룹 수 증가시키기\n",
    "        count = 0 #현재 그룹에 포함된 모험가의 수 초기화\n",
    "\n",
    "print(result)"
   ]
  },
  {
   "cell_type": "code",
   "execution_count": 3,
   "metadata": {},
   "outputs": [
    {
     "name": "stdout",
     "output_type": "stream",
     "text": [
      "23122\n",
      "2 3 1 2 2 \n",
      "[1, 2, 2, 2, 3]\n"
     ]
    }
   ],
   "source": [
    "n = int(input())\n",
    "\n",
    "\n",
    "data = list(map(int, input().split()))\n",
    "data.sort() # 오름차순 정렬 : 작은 수부터\n",
    "\n",
    "print(data)"
   ]
  },
  {
   "cell_type": "code",
   "execution_count": 4,
   "metadata": {},
   "outputs": [
    {
     "name": "stdout",
     "output_type": "stream",
     "text": [
      "01011\n",
      "2\n"
     ]
    }
   ],
   "source": [
    "# 그리디 3 기출\n",
    "\n",
    "#문자열 입력받은 다음.\n",
    "# 1과 0의 각각 몇개인지 확인.\n",
    "# 더 적은 수의 카드를 뒤집는 갯수 세기\n",
    "\n",
    "data = input()\n",
    "count0 = 0 #전부 0으로 바꾸는 경우 : 1이면 바꾸는 카운트 횟수 1 추가됨\n",
    "count1 = 0 #전부 1로 바꾸는 경우\n",
    "\n",
    "#첫 번째 원소에 대해 처리\n",
    "if data[0] == '1':\n",
    "    count0 += 1\n",
    "else:\n",
    "    count1 += 1\n",
    "    \n",
    "#두 번째 원소부터 모든 원소를 확인\n",
    "for i in range(len(data)-1):\n",
    "    if data[i] != data[i+1]: # 첫번째 원소와 그 뒤에 원소가 같지 않다면\n",
    "        # 다음 수에서 1로 바뀌는 경우\n",
    "        if data[i+1] == '1':\n",
    "            count0 += 1\n",
    "        #다음 수에서 0으로 바뀌는 경우\n",
    "        else:\n",
    "            count1+= 1\n",
    "print(min(count0, count1))"
   ]
  },
  {
   "cell_type": "code",
   "execution_count": 6,
   "metadata": {},
   "outputs": [
    {
     "name": "stdout",
     "output_type": "stream",
     "text": [
      "1234\n",
      "1 3 4\n",
      "2\n"
     ]
    }
   ],
   "source": [
    "# 그리디 4 기출\n",
    "\n",
    "n = int(input())\n",
    "data = list(map(int, input().split()))\n",
    "data.sort()\n",
    "\n",
    "target = 1\n",
    "for x in data:\n",
    "    #만들 수 없는 금액 찾을 때 반복 종료\n",
    "    if target < x:\n",
    "        break\n",
    "    target += x\n",
    "#만들 수 없는 금액 출력\n",
    "print(target)"
   ]
  },
  {
   "cell_type": "code",
   "execution_count": null,
   "metadata": {},
   "outputs": [],
   "source": []
  }
 ],
 "metadata": {
  "kernelspec": {
   "display_name": "Python 3",
   "language": "python",
   "name": "python3"
  },
  "language_info": {
   "codemirror_mode": {
    "name": "ipython",
    "version": 3
   },
   "file_extension": ".py",
   "mimetype": "text/x-python",
   "name": "python",
   "nbconvert_exporter": "python",
   "pygments_lexer": "ipython3",
   "version": "3.8.5"
  }
 },
 "nbformat": 4,
 "nbformat_minor": 4
}
